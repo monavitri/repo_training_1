{
  "nbformat": 4,
  "nbformat_minor": 0,
  "metadata": {
    "colab": {
      "private_outputs": true,
      "provenance": [],
      "include_colab_link": true
    },
    "kernelspec": {
      "name": "python3",
      "display_name": "Python 3"
    },
    "language_info": {
      "name": "python"
    }
  },
  "cells": [
    {
      "cell_type": "markdown",
      "metadata": {
        "id": "view-in-github",
        "colab_type": "text"
      },
      "source": [
        "<a href=\"https://colab.research.google.com/github/monavitri/repo_training_1/blob/main/Module_3_Take_home_Assignment_Template.ipynb\" target=\"_parent\"><img src=\"https://colab.research.google.com/assets/colab-badge.svg\" alt=\"Open In Colab\"/></a>"
      ]
    },
    {
      "cell_type": "markdown",
      "source": [
        "# Import Packages"
      ],
      "metadata": {
        "id": "XfYwSIvKvWQ8"
      }
    },
    {
      "cell_type": "code",
      "source": [
        "import gdown"
      ],
      "metadata": {
        "id": "av1nJAoPtI-4"
      },
      "execution_count": null,
      "outputs": []
    },
    {
      "cell_type": "code",
      "source": [
        "gdrive_url = \"https://drive.google.com/file/d/1hOLOXCnLtEVx56yth4ePcUdb_X038_Qd/view?usp=drive_link\"\n",
        "file_name = 'telecom_account.csv'\n",
        "gdown.download(gdrive_url, file_name, fuzzy=True)"
      ],
      "metadata": {
        "id": "RxsLmds5fIbb"
      },
      "execution_count": null,
      "outputs": []
    },
    {
      "cell_type": "code",
      "source": [
        "gdrive_url = \"https://drive.google.com/file/d/1JMrMNFaflQR0NhCXR3-u7ueA7TdNTJki/view?usp=drive_link\"\n",
        "file_name = 'telecom_usage.csv'\n",
        "gdown.download(gdrive_url, file_name, fuzzy=True)"
      ],
      "metadata": {
        "id": "NSmvdBm_fiQg"
      },
      "execution_count": null,
      "outputs": []
    },
    {
      "cell_type": "markdown",
      "source": [
        "# Download Data"
      ],
      "metadata": {
        "id": "lnlnpGTUvUsQ"
      }
    },
    {
      "cell_type": "code",
      "source": [
        "dict_data_url = {\"telecom_accounts.csv\" : \"https://drive.google.com/file/d/1hOLOXCnLtEVx56yth4ePcUdb_X038_Qd/view?usp=drive_link\",\n",
        "                 \"telecom_usage.csv\" : \"https://drive.google.com/file/d/1JMrMNFaflQR0NhCXR3-u7ueA7TdNTJki/view?usp=drive_link\"\n",
        "}"
      ],
      "metadata": {
        "id": "IMoIgZPutIio"
      },
      "execution_count": null,
      "outputs": []
    },
    {
      "cell_type": "code",
      "source": [
        "for file_name, gdrive_url in dict_data_url.items():\n",
        "  gdown.download(gdrive_url, file_name, fuzzy=True)"
      ],
      "metadata": {
        "id": "a461yPP4hc39"
      },
      "execution_count": null,
      "outputs": []
    },
    {
      "cell_type": "markdown",
      "source": [
        "# Load Data"
      ],
      "metadata": {
        "id": "L9s_-pAKvYb6"
      }
    },
    {
      "cell_type": "code",
      "source": [
        "import pandas as pd"
      ],
      "metadata": {
        "id": "uVSQhiQCh03b"
      },
      "execution_count": null,
      "outputs": []
    },
    {
      "cell_type": "code",
      "source": [
        "df_account = pd.read_csv(\"/content/telecom_account.csv\")"
      ],
      "metadata": {
        "id": "P3lcWWvXtm_1"
      },
      "execution_count": null,
      "outputs": []
    },
    {
      "cell_type": "code",
      "source": [
        "df_usage = pd.read_csv(\"/content/telecom_usage.csv\")"
      ],
      "metadata": {
        "id": "9DO-s4gLtoSL"
      },
      "execution_count": null,
      "outputs": []
    },
    {
      "cell_type": "markdown",
      "source": [
        "# Cleaning Customer Gender"
      ],
      "metadata": {
        "id": "Vz10RzvQvaT8"
      }
    },
    {
      "cell_type": "code",
      "source": [
        "df_account.head()"
      ],
      "metadata": {
        "id": "-p_7MCuhtpi5"
      },
      "execution_count": null,
      "outputs": []
    },
    {
      "cell_type": "code",
      "source": [
        "df_account.info()"
      ],
      "metadata": {
        "id": "C63BQ9Mgj-3H"
      },
      "execution_count": null,
      "outputs": []
    },
    {
      "cell_type": "code",
      "source": [
        "# Replace null values and incorrect inputs with \"u\"\n",
        "df_account['customer_gender'] = df_account['customer_gender'].apply(lambda x: 'u' if pd.isnull(x) or x.lower() not in ['m', 'f'] else x.lower())\n",
        "\n",
        "# Display the cleaned-up gender column\n",
        "print(df_account['customer_gender'])\n"
      ],
      "metadata": {
        "id": "wLLH2JWgmDip"
      },
      "execution_count": null,
      "outputs": []
    },
    {
      "cell_type": "code",
      "source": [
        "df_account['customer_gender'].value_counts(dropna=False)"
      ],
      "metadata": {
        "id": "pZTmEQ3rmH7z"
      },
      "execution_count": null,
      "outputs": []
    },
    {
      "cell_type": "markdown",
      "source": [],
      "metadata": {
        "id": "TvUk2vlOmDUL"
      }
    },
    {
      "cell_type": "markdown",
      "source": [
        "# RFM Exploration"
      ],
      "metadata": {
        "id": "J86IhLHExAsL"
      }
    },
    {
      "cell_type": "code",
      "source": [
        "df_usage.info()"
      ],
      "metadata": {
        "id": "DN4STEk1wkib"
      },
      "execution_count": null,
      "outputs": []
    },
    {
      "cell_type": "code",
      "source": [
        "df_usage.head()"
      ],
      "metadata": {
        "id": "xZtF_7VSyGt1"
      },
      "execution_count": null,
      "outputs": []
    },
    {
      "cell_type": "code",
      "source": [
        "df_rfm = df_usage.groupby('rfm_score').agg({'mb_data_usg_m01': ['mean', 'max'],\n",
        "  'avg_arpu_3m': 'mean',\n",
        "  'lifetime_value': 'mean'\n",
        "                                   })"
      ],
      "metadata": {
        "id": "2TNhbHOatXMV"
      },
      "execution_count": null,
      "outputs": []
    },
    {
      "cell_type": "code",
      "source": [
        "df_rfm.loc[[111,112,113,121,122,123]]"
      ],
      "metadata": {
        "id": "ojZwp6M5r0x7"
      },
      "execution_count": null,
      "outputs": []
    },
    {
      "cell_type": "markdown",
      "source": [
        "# Merge Table"
      ],
      "metadata": {
        "id": "-qOT8hARyglf"
      }
    },
    {
      "cell_type": "code",
      "source": [
        "# Assuming df_account and df_usage are your DataFrames\n",
        "# Selecting specific columns from df_account\n",
        "df_account_subset = df_account[['Customer_ID', 'customer_gender', 'region']]\n",
        "\n",
        "# Selecting specific columns from df_usage\n",
        "df_usage_subset = df_usage[['Customer_ID', 'mb_data_usg_m01', 'avg_arpu_3m', 'lifetime_value']]\n",
        "\n",
        "# Performing the join on Customer_ID column\n",
        "df_join = pd.merge(df_account_subset, df_usage_subset, on='Customer_ID', how='inner')\n",
        "\n"
      ],
      "metadata": {
        "id": "ViV4THte0Jqc"
      },
      "execution_count": null,
      "outputs": []
    },
    {
      "cell_type": "code",
      "source": [
        "df_join.loc[df_join['Customer_ID'].isin([84690, 3998832, 3999066])]"
      ],
      "metadata": {
        "id": "UgQCGlJY0O6N"
      },
      "execution_count": null,
      "outputs": []
    },
    {
      "cell_type": "code",
      "source": [],
      "metadata": {
        "id": "-aPEyZUZ1Gvb"
      },
      "execution_count": null,
      "outputs": []
    }
  ]
}